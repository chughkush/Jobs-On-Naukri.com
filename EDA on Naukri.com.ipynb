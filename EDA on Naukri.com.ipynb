{
 "cells": [
  {
   "source": [
    "Link to Kaggle Notebook [HERE](https://www.kaggle.com/kushagrachugh/eda-with-seaborn-naukri-com-dataset)"
   ],
   "cell_type": "markdown",
   "metadata": {}
  },
  {
   "source": [
    "## Importing Libraries"
   ],
   "cell_type": "markdown",
   "metadata": {}
  },
  {
   "cell_type": "code",
   "execution_count": 1,
   "metadata": {
    "_cell_guid": "b1076dfc-b9ad-4769-8c92-a6c4dae69d19",
    "_uuid": "8f2839f25d086af736a60e9eeb907d3b93b6e0e5",
    "execution": {
     "iopub.execute_input": "2021-02-23T06:23:45.785200Z",
     "iopub.status.busy": "2021-02-23T06:23:45.784494Z",
     "iopub.status.idle": "2021-02-23T06:23:46.534069Z",
     "shell.execute_reply": "2021-02-23T06:23:46.533129Z"
    },
    "papermill": {
     "duration": 0.772851,
     "end_time": "2021-02-23T06:23:46.534199",
     "exception": false,
     "start_time": "2021-02-23T06:23:45.761348",
     "status": "completed"
    },
    "tags": []
   },
   "outputs": [
    {
     "name": "stdout",
     "output_type": "stream",
     "text": [
      "/kaggle/input/jobs-on-naukricom/home/sdf/marketing_sample_for_naukri_com-jobs__20190701_20190830__30k_data.csv\n"
     ]
    }
   ],
   "source": [
    "import numpy as np\n",
    "import pandas as pd\n",
    "import matplotlib.pyplot as plt\n",
    "import seaborn as sns\n",
    "sns.set_style(\"whitegrid\")\n",
    "\n",
    "import os\n",
    "for dirname, _, filenames in os.walk('/kaggle/input'):\n",
    "    for filename in filenames:\n",
    "        print(os.path.join(dirname, filename))"
   ]
  },
  {
   "cell_type": "markdown",
   "metadata": {
    "papermill": {
     "duration": 0.015127,
     "end_time": "2021-02-23T06:23:46.565726",
     "exception": false,
     "start_time": "2021-02-23T06:23:46.550599",
     "status": "completed"
    },
    "tags": []
   },
   "source": [
    "## Reading and Inspecting Data"
   ]
  },
  {
   "cell_type": "code",
   "execution_count": 2,
   "metadata": {
    "execution": {
     "iopub.execute_input": "2021-02-23T06:23:46.602807Z",
     "iopub.status.busy": "2021-02-23T06:23:46.602149Z",
     "iopub.status.idle": "2021-02-23T06:23:46.901784Z",
     "shell.execute_reply": "2021-02-23T06:23:46.901054Z"
    },
    "papermill": {
     "duration": 0.320684,
     "end_time": "2021-02-23T06:23:46.901927",
     "exception": false,
     "start_time": "2021-02-23T06:23:46.581243",
     "status": "completed"
    },
    "tags": []
   },
   "outputs": [],
   "source": [
    "naukri = pd.read_csv('/kaggle/input/jobs-on-naukricom/home/sdf/marketing_sample_for_naukri_com-jobs__20190701_20190830__30k_data.csv')"
   ]
  },
  {
   "cell_type": "code",
   "execution_count": 3,
   "metadata": {
    "execution": {
     "iopub.execute_input": "2021-02-23T06:23:46.950512Z",
     "iopub.status.busy": "2021-02-23T06:23:46.949852Z",
     "iopub.status.idle": "2021-02-23T06:23:46.964642Z",
     "shell.execute_reply": "2021-02-23T06:23:46.965390Z"
    },
    "papermill": {
     "duration": 0.047863,
     "end_time": "2021-02-23T06:23:46.965608",
     "exception": false,
     "start_time": "2021-02-23T06:23:46.917745",
     "status": "completed"
    },
    "tags": []
   },
   "outputs": [
    {
     "data": {
      "text/html": [
       "<div>\n",
       "<style scoped>\n",
       "    .dataframe tbody tr th:only-of-type {\n",
       "        vertical-align: middle;\n",
       "    }\n",
       "\n",
       "    .dataframe tbody tr th {\n",
       "        vertical-align: top;\n",
       "    }\n",
       "\n",
       "    .dataframe thead th {\n",
       "        text-align: right;\n",
       "    }\n",
       "</style>\n",
       "<table border=\"1\" class=\"dataframe\">\n",
       "  <thead>\n",
       "    <tr style=\"text-align: right;\">\n",
       "      <th></th>\n",
       "      <th>Uniq Id</th>\n",
       "      <th>Crawl Timestamp</th>\n",
       "      <th>Job Title</th>\n",
       "      <th>Job Salary</th>\n",
       "      <th>Job Experience Required</th>\n",
       "      <th>Key Skills</th>\n",
       "      <th>Role Category</th>\n",
       "      <th>Location</th>\n",
       "      <th>Functional Area</th>\n",
       "      <th>Industry</th>\n",
       "      <th>Role</th>\n",
       "    </tr>\n",
       "  </thead>\n",
       "  <tbody>\n",
       "    <tr>\n",
       "      <th>0</th>\n",
       "      <td>9be62c49a0b7ebe982a4af1edaa7bc5f</td>\n",
       "      <td>2019-07-05 01:46:07 +0000</td>\n",
       "      <td>Digital Media Planner</td>\n",
       "      <td>Not Disclosed by Recruiter</td>\n",
       "      <td>5 - 10 yrs</td>\n",
       "      <td>Media Planning| Digital Media</td>\n",
       "      <td>Advertising</td>\n",
       "      <td>Mumbai</td>\n",
       "      <td>Marketing , Advertising , MR , PR , Media Plan...</td>\n",
       "      <td>Advertising, PR, MR, Event Management</td>\n",
       "      <td>Media Planning Executive/Manager</td>\n",
       "    </tr>\n",
       "    <tr>\n",
       "      <th>1</th>\n",
       "      <td>3c52d436e39f596b22519da2612f6a56</td>\n",
       "      <td>2019-07-06 08:04:50 +0000</td>\n",
       "      <td>Online Bidding Executive</td>\n",
       "      <td>Not Disclosed by Recruiter</td>\n",
       "      <td>2 - 5 yrs</td>\n",
       "      <td>pre sales| closing| software knowledge| clien...</td>\n",
       "      <td>Retail Sales</td>\n",
       "      <td>Pune,Pune</td>\n",
       "      <td>Sales , Retail , Business Development</td>\n",
       "      <td>IT-Software, Software Services</td>\n",
       "      <td>Sales Executive/Officer</td>\n",
       "    </tr>\n",
       "    <tr>\n",
       "      <th>2</th>\n",
       "      <td>ffad8a2396c60be2bf6d0e2ff47c58d4</td>\n",
       "      <td>2019-08-05 15:50:44 +0000</td>\n",
       "      <td>Trainee Research/ Research Executive- Hi- Tec...</td>\n",
       "      <td>Not Disclosed by Recruiter</td>\n",
       "      <td>0 - 1 yrs</td>\n",
       "      <td>Computer science| Fabrication| Quality check|...</td>\n",
       "      <td>R&amp;D</td>\n",
       "      <td>Gurgaon</td>\n",
       "      <td>Engineering Design , R&amp;D</td>\n",
       "      <td>Recruitment, Staffing</td>\n",
       "      <td>R&amp;D Executive</td>\n",
       "    </tr>\n",
       "    <tr>\n",
       "      <th>3</th>\n",
       "      <td>7b921f51b5c2fb862b4a5f7a54c37f75</td>\n",
       "      <td>2019-08-05 15:31:56 +0000</td>\n",
       "      <td>Technical Support</td>\n",
       "      <td>2,00,000 - 4,00,000 PA.</td>\n",
       "      <td>0 - 5 yrs</td>\n",
       "      <td>Technical Support</td>\n",
       "      <td>Admin/Maintenance/Security/Datawarehousing</td>\n",
       "      <td>Mumbai</td>\n",
       "      <td>IT Software - Application Programming , Mainte...</td>\n",
       "      <td>IT-Software, Software Services</td>\n",
       "      <td>Technical Support Engineer</td>\n",
       "    </tr>\n",
       "    <tr>\n",
       "      <th>4</th>\n",
       "      <td>2d8b7d44e138a54d5dc841163138de50</td>\n",
       "      <td>2019-07-05 02:48:29 +0000</td>\n",
       "      <td>Software Test Engineer -hyderabad</td>\n",
       "      <td>Not Disclosed by Recruiter</td>\n",
       "      <td>2 - 5 yrs</td>\n",
       "      <td>manual testing| test engineering| test cases|...</td>\n",
       "      <td>Programming &amp; Design</td>\n",
       "      <td>Hyderabad</td>\n",
       "      <td>IT Software - QA &amp; Testing</td>\n",
       "      <td>IT-Software, Software Services</td>\n",
       "      <td>Testing Engineer</td>\n",
       "    </tr>\n",
       "  </tbody>\n",
       "</table>\n",
       "</div>"
      ],
      "text/plain": [
       "                            Uniq Id            Crawl Timestamp  \\\n",
       "0  9be62c49a0b7ebe982a4af1edaa7bc5f  2019-07-05 01:46:07 +0000   \n",
       "1  3c52d436e39f596b22519da2612f6a56  2019-07-06 08:04:50 +0000   \n",
       "2  ffad8a2396c60be2bf6d0e2ff47c58d4  2019-08-05 15:50:44 +0000   \n",
       "3  7b921f51b5c2fb862b4a5f7a54c37f75  2019-08-05 15:31:56 +0000   \n",
       "4  2d8b7d44e138a54d5dc841163138de50  2019-07-05 02:48:29 +0000   \n",
       "\n",
       "                                           Job Title  \\\n",
       "0                              Digital Media Planner   \n",
       "1                           Online Bidding Executive   \n",
       "2   Trainee Research/ Research Executive- Hi- Tec...   \n",
       "3                                  Technical Support   \n",
       "4                  Software Test Engineer -hyderabad   \n",
       "\n",
       "                     Job Salary Job Experience Required  \\\n",
       "0   Not Disclosed by Recruiter               5 - 10 yrs   \n",
       "1   Not Disclosed by Recruiter                2 - 5 yrs   \n",
       "2   Not Disclosed by Recruiter                0 - 1 yrs   \n",
       "3      2,00,000 - 4,00,000 PA.                0 - 5 yrs   \n",
       "4   Not Disclosed by Recruiter                2 - 5 yrs   \n",
       "\n",
       "                                          Key Skills  \\\n",
       "0                      Media Planning| Digital Media   \n",
       "1   pre sales| closing| software knowledge| clien...   \n",
       "2   Computer science| Fabrication| Quality check|...   \n",
       "3                                  Technical Support   \n",
       "4   manual testing| test engineering| test cases|...   \n",
       "\n",
       "                                Role Category   Location  \\\n",
       "0                                 Advertising     Mumbai   \n",
       "1                                Retail Sales  Pune,Pune   \n",
       "2                                         R&D    Gurgaon   \n",
       "3  Admin/Maintenance/Security/Datawarehousing     Mumbai   \n",
       "4                        Programming & Design  Hyderabad   \n",
       "\n",
       "                                     Functional Area  \\\n",
       "0  Marketing , Advertising , MR , PR , Media Plan...   \n",
       "1              Sales , Retail , Business Development   \n",
       "2                           Engineering Design , R&D   \n",
       "3  IT Software - Application Programming , Mainte...   \n",
       "4                         IT Software - QA & Testing   \n",
       "\n",
       "                                Industry                              Role  \n",
       "0  Advertising, PR, MR, Event Management  Media Planning Executive/Manager  \n",
       "1         IT-Software, Software Services           Sales Executive/Officer  \n",
       "2                  Recruitment, Staffing                     R&D Executive  \n",
       "3         IT-Software, Software Services        Technical Support Engineer  \n",
       "4         IT-Software, Software Services                  Testing Engineer  "
      ]
     },
     "execution_count": 3,
     "metadata": {},
     "output_type": "execute_result"
    }
   ],
   "source": [
    "naukri.head()"
   ]
  },
  {
   "cell_type": "code",
   "execution_count": 4,
   "metadata": {
    "execution": {
     "iopub.execute_input": "2021-02-23T06:23:47.015753Z",
     "iopub.status.busy": "2021-02-23T06:23:47.015099Z",
     "iopub.status.idle": "2021-02-23T06:23:47.046075Z",
     "shell.execute_reply": "2021-02-23T06:23:47.044429Z"
    },
    "papermill": {
     "duration": 0.054327,
     "end_time": "2021-02-23T06:23:47.046274",
     "exception": false,
     "start_time": "2021-02-23T06:23:46.991947",
     "status": "completed"
    },
    "tags": []
   },
   "outputs": [
    {
     "data": {
      "text/html": [
       "<div>\n",
       "<style scoped>\n",
       "    .dataframe tbody tr th:only-of-type {\n",
       "        vertical-align: middle;\n",
       "    }\n",
       "\n",
       "    .dataframe tbody tr th {\n",
       "        vertical-align: top;\n",
       "    }\n",
       "\n",
       "    .dataframe thead th {\n",
       "        text-align: right;\n",
       "    }\n",
       "</style>\n",
       "<table border=\"1\" class=\"dataframe\">\n",
       "  <thead>\n",
       "    <tr style=\"text-align: right;\">\n",
       "      <th></th>\n",
       "      <th>Uniq Id</th>\n",
       "      <th>Crawl Timestamp</th>\n",
       "      <th>Job Title</th>\n",
       "      <th>Job Salary</th>\n",
       "      <th>Job Experience Required</th>\n",
       "      <th>Key Skills</th>\n",
       "      <th>Role Category</th>\n",
       "      <th>Location</th>\n",
       "      <th>Functional Area</th>\n",
       "      <th>Industry</th>\n",
       "      <th>Role</th>\n",
       "    </tr>\n",
       "  </thead>\n",
       "  <tbody>\n",
       "    <tr>\n",
       "      <th>29995</th>\n",
       "      <td>3510f2146b514f112eaa9706a16b3900</td>\n",
       "      <td>2019-07-06 21:12:51 +0000</td>\n",
       "      <td>MTS-Software-Engineer</td>\n",
       "      <td>Not Disclosed by Recruiter</td>\n",
       "      <td>9 - 12 yrs</td>\n",
       "      <td>Graphics| C++| USB| Project management| SOC| ...</td>\n",
       "      <td>Programming &amp; Design</td>\n",
       "      <td>Bengaluru</td>\n",
       "      <td>IT Software - Embedded , EDA , VLSI , ASIC , C...</td>\n",
       "      <td>Semiconductors, Electronics</td>\n",
       "      <td>Software Developer</td>\n",
       "    </tr>\n",
       "    <tr>\n",
       "      <th>29996</th>\n",
       "      <td>4af8c56f5b4c535b1974065003f2d548</td>\n",
       "      <td>2019-08-05 23:55:08 +0000</td>\n",
       "      <td>Client Relationship Manager</td>\n",
       "      <td>Not Disclosed by Recruiter</td>\n",
       "      <td>1 - 5 yrs</td>\n",
       "      <td>Service delivery| LMS| CRE| Integration servi...</td>\n",
       "      <td>Operations</td>\n",
       "      <td>Chennai</td>\n",
       "      <td>ITES , BPO , KPO , LPO , Customer Service , Op...</td>\n",
       "      <td>Education, Teaching, Training</td>\n",
       "      <td>Operations Manager</td>\n",
       "    </tr>\n",
       "    <tr>\n",
       "      <th>29997</th>\n",
       "      <td>43d5b806b26ed99d3ebfc8f366b4cdd1</td>\n",
       "      <td>2019-08-05 09:41:29 +0000</td>\n",
       "      <td>Assoc. Prof.- CS</td>\n",
       "      <td>Not Disclosed by Recruiter</td>\n",
       "      <td>4 - 6 yrs</td>\n",
       "      <td>Counselor| Mentor| Trainer| Advisor| Teaching</td>\n",
       "      <td>University Level</td>\n",
       "      <td>Howrah</td>\n",
       "      <td>Teaching , Education , Training , Counselling</td>\n",
       "      <td>Education, Teaching, Training</td>\n",
       "      <td>Lecturer/Professor</td>\n",
       "    </tr>\n",
       "    <tr>\n",
       "      <th>29998</th>\n",
       "      <td>8bc87d14cf56564f16b6d4bae80180be</td>\n",
       "      <td>2019-08-06 01:44:55 +0000</td>\n",
       "      <td>Application/Cyber Security Specialist-Pune</td>\n",
       "      <td>Not Disclosed by Recruiter</td>\n",
       "      <td>5 - 10 yrs</td>\n",
       "      <td>Security Analysis| Software Development Life ...</td>\n",
       "      <td>Programming &amp; Design</td>\n",
       "      <td>Pune</td>\n",
       "      <td>IT Software - Application Programming , Mainte...</td>\n",
       "      <td>IT-Software, Software Services</td>\n",
       "      <td>Software Developer</td>\n",
       "    </tr>\n",
       "    <tr>\n",
       "      <th>29999</th>\n",
       "      <td>9c7045d111814a6f39fe461eab2b0bf8</td>\n",
       "      <td>2019-07-06 22:24:55 +0000</td>\n",
       "      <td>Press Release Writer - SEO</td>\n",
       "      <td>Not Disclosed by Recruiter</td>\n",
       "      <td>2 - 7 yrs</td>\n",
       "      <td>Press release| Public relations| Publishing| ...</td>\n",
       "      <td>Online/Digital Marketing</td>\n",
       "      <td>Bengaluru</td>\n",
       "      <td>Marketing , Advertising , MR , PR , Media Plan...</td>\n",
       "      <td>IT-Software, Software Services</td>\n",
       "      <td>Search Engine Optimisation /SEO Specialist</td>\n",
       "    </tr>\n",
       "  </tbody>\n",
       "</table>\n",
       "</div>"
      ],
      "text/plain": [
       "                                Uniq Id            Crawl Timestamp  \\\n",
       "29995  3510f2146b514f112eaa9706a16b3900  2019-07-06 21:12:51 +0000   \n",
       "29996  4af8c56f5b4c535b1974065003f2d548  2019-08-05 23:55:08 +0000   \n",
       "29997  43d5b806b26ed99d3ebfc8f366b4cdd1  2019-08-05 09:41:29 +0000   \n",
       "29998  8bc87d14cf56564f16b6d4bae80180be  2019-08-06 01:44:55 +0000   \n",
       "29999  9c7045d111814a6f39fe461eab2b0bf8  2019-07-06 22:24:55 +0000   \n",
       "\n",
       "                                         Job Title  \\\n",
       "29995                        MTS-Software-Engineer   \n",
       "29996                  Client Relationship Manager   \n",
       "29997                             Assoc. Prof.- CS   \n",
       "29998   Application/Cyber Security Specialist-Pune   \n",
       "29999                   Press Release Writer - SEO   \n",
       "\n",
       "                         Job Salary Job Experience Required  \\\n",
       "29995   Not Disclosed by Recruiter               9 - 12 yrs   \n",
       "29996   Not Disclosed by Recruiter                1 - 5 yrs   \n",
       "29997   Not Disclosed by Recruiter                4 - 6 yrs   \n",
       "29998   Not Disclosed by Recruiter               5 - 10 yrs   \n",
       "29999   Not Disclosed by Recruiter                2 - 7 yrs   \n",
       "\n",
       "                                              Key Skills  \\\n",
       "29995   Graphics| C++| USB| Project management| SOC| ...   \n",
       "29996   Service delivery| LMS| CRE| Integration servi...   \n",
       "29997      Counselor| Mentor| Trainer| Advisor| Teaching   \n",
       "29998   Security Analysis| Software Development Life ...   \n",
       "29999   Press release| Public relations| Publishing| ...   \n",
       "\n",
       "                  Role Category   Location  \\\n",
       "29995      Programming & Design  Bengaluru   \n",
       "29996                Operations    Chennai   \n",
       "29997          University Level     Howrah   \n",
       "29998      Programming & Design       Pune   \n",
       "29999  Online/Digital Marketing  Bengaluru   \n",
       "\n",
       "                                         Functional Area  \\\n",
       "29995  IT Software - Embedded , EDA , VLSI , ASIC , C...   \n",
       "29996  ITES , BPO , KPO , LPO , Customer Service , Op...   \n",
       "29997      Teaching , Education , Training , Counselling   \n",
       "29998  IT Software - Application Programming , Mainte...   \n",
       "29999  Marketing , Advertising , MR , PR , Media Plan...   \n",
       "\n",
       "                             Industry  \\\n",
       "29995     Semiconductors, Electronics   \n",
       "29996   Education, Teaching, Training   \n",
       "29997   Education, Teaching, Training   \n",
       "29998  IT-Software, Software Services   \n",
       "29999  IT-Software, Software Services   \n",
       "\n",
       "                                             Role  \n",
       "29995                          Software Developer  \n",
       "29996                          Operations Manager  \n",
       "29997                          Lecturer/Professor  \n",
       "29998                          Software Developer  \n",
       "29999  Search Engine Optimisation /SEO Specialist  "
      ]
     },
     "execution_count": 4,
     "metadata": {},
     "output_type": "execute_result"
    }
   ],
   "source": [
    "naukri.tail()"
   ]
  },
  {
   "cell_type": "code",
   "execution_count": 5,
   "metadata": {
    "execution": {
     "iopub.execute_input": "2021-02-23T06:23:47.103788Z",
     "iopub.status.busy": "2021-02-23T06:23:47.102878Z",
     "iopub.status.idle": "2021-02-23T06:23:47.107980Z",
     "shell.execute_reply": "2021-02-23T06:23:47.107357Z"
    },
    "papermill": {
     "duration": 0.029808,
     "end_time": "2021-02-23T06:23:47.108103",
     "exception": false,
     "start_time": "2021-02-23T06:23:47.078295",
     "status": "completed"
    },
    "tags": []
   },
   "outputs": [
    {
     "data": {
      "text/plain": [
       "(30000, 11)"
      ]
     },
     "execution_count": 5,
     "metadata": {},
     "output_type": "execute_result"
    }
   ],
   "source": [
    "naukri.shape"
   ]
  },
  {
   "cell_type": "code",
   "execution_count": 6,
   "metadata": {
    "execution": {
     "iopub.execute_input": "2021-02-23T06:23:47.201234Z",
     "iopub.status.busy": "2021-02-23T06:23:47.200206Z",
     "iopub.status.idle": "2021-02-23T06:23:47.213887Z",
     "shell.execute_reply": "2021-02-23T06:23:47.214607Z"
    },
    "papermill": {
     "duration": 0.088859,
     "end_time": "2021-02-23T06:23:47.214800",
     "exception": false,
     "start_time": "2021-02-23T06:23:47.125941",
     "status": "completed"
    },
    "tags": []
   },
   "outputs": [
    {
     "name": "stdout",
     "output_type": "stream",
     "text": [
      "<class 'pandas.core.frame.DataFrame'>\n",
      "RangeIndex: 30000 entries, 0 to 29999\n",
      "Data columns (total 11 columns):\n",
      " #   Column                   Non-Null Count  Dtype \n",
      "---  ------                   --------------  ----- \n",
      " 0   Uniq Id                  30000 non-null  object\n",
      " 1   Crawl Timestamp          30000 non-null  object\n",
      " 2   Job Title                29425 non-null  object\n",
      " 3   Job Salary               29950 non-null  object\n",
      " 4   Job Experience Required  29427 non-null  object\n",
      " 5   Key Skills               28729 non-null  object\n",
      " 6   Role Category            27695 non-null  object\n",
      " 7   Location                 29423 non-null  object\n",
      " 8   Functional Area          29427 non-null  object\n",
      " 9   Industry                 29427 non-null  object\n",
      " 10  Role                     29099 non-null  object\n",
      "dtypes: object(11)\n",
      "memory usage: 2.5+ MB\n"
     ]
    }
   ],
   "source": [
    "naukri.info()"
   ]
  },
  {
   "cell_type": "code",
   "execution_count": 7,
   "metadata": {
    "execution": {
     "iopub.execute_input": "2021-02-23T06:23:47.301121Z",
     "iopub.status.busy": "2021-02-23T06:23:47.300402Z",
     "iopub.status.idle": "2021-02-23T06:23:47.311061Z",
     "shell.execute_reply": "2021-02-23T06:23:47.310150Z"
    },
    "papermill": {
     "duration": 0.072386,
     "end_time": "2021-02-23T06:23:47.311223",
     "exception": false,
     "start_time": "2021-02-23T06:23:47.238837",
     "status": "completed"
    },
    "tags": []
   },
   "outputs": [
    {
     "data": {
      "text/plain": [
       "Uniq Id                       0\n",
       "Crawl Timestamp               0\n",
       "Job Title                   575\n",
       "Job Salary                   50\n",
       "Job Experience Required     573\n",
       "Key Skills                 1271\n",
       "Role Category              2305\n",
       "Location                    577\n",
       "Functional Area             573\n",
       "Industry                    573\n",
       "Role                        901\n",
       "dtype: int64"
      ]
     },
     "execution_count": 7,
     "metadata": {},
     "output_type": "execute_result"
    }
   ],
   "source": [
    "naukri.isnull().sum()"
   ]
  },
  {
   "cell_type": "markdown",
   "metadata": {
    "papermill": {
     "duration": 0.018811,
     "end_time": "2021-02-23T06:23:47.351416",
     "exception": false,
     "start_time": "2021-02-23T06:23:47.332605",
     "status": "completed"
    },
    "tags": []
   },
   "source": [
    "## EDA"
   ]
  },
  {
   "cell_type": "markdown",
   "metadata": {
    "papermill": {
     "duration": 0.018163,
     "end_time": "2021-02-23T06:23:47.389032",
     "exception": false,
     "start_time": "2021-02-23T06:23:47.370869",
     "status": "completed"
    },
    "tags": []
   },
   "source": [
    "### Removing Irrelevant Columns"
   ]
  },
  {
   "cell_type": "markdown",
   "metadata": {
    "papermill": {
     "duration": 0.018314,
     "end_time": "2021-02-23T06:23:47.425905",
     "exception": false,
     "start_time": "2021-02-23T06:23:47.407591",
     "status": "completed"
    },
    "tags": []
   },
   "source": [
    "I believe 'Crawl Timestamp' and 'Functional Area' are irrelevant columns for the analysis so I'll drop these columns"
   ]
  },
  {
   "cell_type": "code",
   "execution_count": 8,
   "metadata": {
    "execution": {
     "iopub.execute_input": "2021-02-23T06:23:47.466397Z",
     "iopub.status.busy": "2021-02-23T06:23:47.465718Z",
     "iopub.status.idle": "2021-02-23T06:23:47.491228Z",
     "shell.execute_reply": "2021-02-23T06:23:47.490682Z"
    },
    "papermill": {
     "duration": 0.047056,
     "end_time": "2021-02-23T06:23:47.491349",
     "exception": false,
     "start_time": "2021-02-23T06:23:47.444293",
     "status": "completed"
    },
    "tags": []
   },
   "outputs": [
    {
     "data": {
      "text/html": [
       "<div>\n",
       "<style scoped>\n",
       "    .dataframe tbody tr th:only-of-type {\n",
       "        vertical-align: middle;\n",
       "    }\n",
       "\n",
       "    .dataframe tbody tr th {\n",
       "        vertical-align: top;\n",
       "    }\n",
       "\n",
       "    .dataframe thead th {\n",
       "        text-align: right;\n",
       "    }\n",
       "</style>\n",
       "<table border=\"1\" class=\"dataframe\">\n",
       "  <thead>\n",
       "    <tr style=\"text-align: right;\">\n",
       "      <th></th>\n",
       "      <th>Uniq Id</th>\n",
       "      <th>Job Title</th>\n",
       "      <th>Job Salary</th>\n",
       "      <th>Job Experience Required</th>\n",
       "      <th>Key Skills</th>\n",
       "      <th>Role Category</th>\n",
       "      <th>Location</th>\n",
       "      <th>Industry</th>\n",
       "      <th>Role</th>\n",
       "    </tr>\n",
       "  </thead>\n",
       "  <tbody>\n",
       "    <tr>\n",
       "      <th>0</th>\n",
       "      <td>9be62c49a0b7ebe982a4af1edaa7bc5f</td>\n",
       "      <td>Digital Media Planner</td>\n",
       "      <td>Not Disclosed by Recruiter</td>\n",
       "      <td>5 - 10 yrs</td>\n",
       "      <td>Media Planning| Digital Media</td>\n",
       "      <td>Advertising</td>\n",
       "      <td>Mumbai</td>\n",
       "      <td>Advertising, PR, MR, Event Management</td>\n",
       "      <td>Media Planning Executive/Manager</td>\n",
       "    </tr>\n",
       "    <tr>\n",
       "      <th>1</th>\n",
       "      <td>3c52d436e39f596b22519da2612f6a56</td>\n",
       "      <td>Online Bidding Executive</td>\n",
       "      <td>Not Disclosed by Recruiter</td>\n",
       "      <td>2 - 5 yrs</td>\n",
       "      <td>pre sales| closing| software knowledge| clien...</td>\n",
       "      <td>Retail Sales</td>\n",
       "      <td>Pune,Pune</td>\n",
       "      <td>IT-Software, Software Services</td>\n",
       "      <td>Sales Executive/Officer</td>\n",
       "    </tr>\n",
       "    <tr>\n",
       "      <th>2</th>\n",
       "      <td>ffad8a2396c60be2bf6d0e2ff47c58d4</td>\n",
       "      <td>Trainee Research/ Research Executive- Hi- Tec...</td>\n",
       "      <td>Not Disclosed by Recruiter</td>\n",
       "      <td>0 - 1 yrs</td>\n",
       "      <td>Computer science| Fabrication| Quality check|...</td>\n",
       "      <td>R&amp;D</td>\n",
       "      <td>Gurgaon</td>\n",
       "      <td>Recruitment, Staffing</td>\n",
       "      <td>R&amp;D Executive</td>\n",
       "    </tr>\n",
       "    <tr>\n",
       "      <th>3</th>\n",
       "      <td>7b921f51b5c2fb862b4a5f7a54c37f75</td>\n",
       "      <td>Technical Support</td>\n",
       "      <td>2,00,000 - 4,00,000 PA.</td>\n",
       "      <td>0 - 5 yrs</td>\n",
       "      <td>Technical Support</td>\n",
       "      <td>Admin/Maintenance/Security/Datawarehousing</td>\n",
       "      <td>Mumbai</td>\n",
       "      <td>IT-Software, Software Services</td>\n",
       "      <td>Technical Support Engineer</td>\n",
       "    </tr>\n",
       "    <tr>\n",
       "      <th>4</th>\n",
       "      <td>2d8b7d44e138a54d5dc841163138de50</td>\n",
       "      <td>Software Test Engineer -hyderabad</td>\n",
       "      <td>Not Disclosed by Recruiter</td>\n",
       "      <td>2 - 5 yrs</td>\n",
       "      <td>manual testing| test engineering| test cases|...</td>\n",
       "      <td>Programming &amp; Design</td>\n",
       "      <td>Hyderabad</td>\n",
       "      <td>IT-Software, Software Services</td>\n",
       "      <td>Testing Engineer</td>\n",
       "    </tr>\n",
       "  </tbody>\n",
       "</table>\n",
       "</div>"
      ],
      "text/plain": [
       "                            Uniq Id  \\\n",
       "0  9be62c49a0b7ebe982a4af1edaa7bc5f   \n",
       "1  3c52d436e39f596b22519da2612f6a56   \n",
       "2  ffad8a2396c60be2bf6d0e2ff47c58d4   \n",
       "3  7b921f51b5c2fb862b4a5f7a54c37f75   \n",
       "4  2d8b7d44e138a54d5dc841163138de50   \n",
       "\n",
       "                                           Job Title  \\\n",
       "0                              Digital Media Planner   \n",
       "1                           Online Bidding Executive   \n",
       "2   Trainee Research/ Research Executive- Hi- Tec...   \n",
       "3                                  Technical Support   \n",
       "4                  Software Test Engineer -hyderabad   \n",
       "\n",
       "                     Job Salary Job Experience Required  \\\n",
       "0   Not Disclosed by Recruiter               5 - 10 yrs   \n",
       "1   Not Disclosed by Recruiter                2 - 5 yrs   \n",
       "2   Not Disclosed by Recruiter                0 - 1 yrs   \n",
       "3      2,00,000 - 4,00,000 PA.                0 - 5 yrs   \n",
       "4   Not Disclosed by Recruiter                2 - 5 yrs   \n",
       "\n",
       "                                          Key Skills  \\\n",
       "0                      Media Planning| Digital Media   \n",
       "1   pre sales| closing| software knowledge| clien...   \n",
       "2   Computer science| Fabrication| Quality check|...   \n",
       "3                                  Technical Support   \n",
       "4   manual testing| test engineering| test cases|...   \n",
       "\n",
       "                                Role Category   Location  \\\n",
       "0                                 Advertising     Mumbai   \n",
       "1                                Retail Sales  Pune,Pune   \n",
       "2                                         R&D    Gurgaon   \n",
       "3  Admin/Maintenance/Security/Datawarehousing     Mumbai   \n",
       "4                        Programming & Design  Hyderabad   \n",
       "\n",
       "                                Industry                              Role  \n",
       "0  Advertising, PR, MR, Event Management  Media Planning Executive/Manager  \n",
       "1         IT-Software, Software Services           Sales Executive/Officer  \n",
       "2                  Recruitment, Staffing                     R&D Executive  \n",
       "3         IT-Software, Software Services        Technical Support Engineer  \n",
       "4         IT-Software, Software Services                  Testing Engineer  "
      ]
     },
     "execution_count": 8,
     "metadata": {},
     "output_type": "execute_result"
    }
   ],
   "source": [
    "naukri = naukri.drop(['Crawl Timestamp','Functional Area'], axis = 1)\n",
    "naukri.head()"
   ]
  },
  {
   "cell_type": "markdown",
   "metadata": {
    "papermill": {
     "duration": 0.019666,
     "end_time": "2021-02-23T06:23:47.530463",
     "exception": false,
     "start_time": "2021-02-23T06:23:47.510797",
     "status": "completed"
    },
    "tags": []
   },
   "source": [
    "### Checking if any duplicate values are present in 'Uniq Id'"
   ]
  },
  {
   "cell_type": "code",
   "execution_count": 9,
   "metadata": {
    "execution": {
     "iopub.execute_input": "2021-02-23T06:23:47.573142Z",
     "iopub.status.busy": "2021-02-23T06:23:47.572430Z",
     "iopub.status.idle": "2021-02-23T06:23:47.591616Z",
     "shell.execute_reply": "2021-02-23T06:23:47.592194Z"
    },
    "papermill": {
     "duration": 0.042526,
     "end_time": "2021-02-23T06:23:47.592340",
     "exception": false,
     "start_time": "2021-02-23T06:23:47.549814",
     "status": "completed"
    },
    "tags": []
   },
   "outputs": [
    {
     "data": {
      "text/plain": [
       "True"
      ]
     },
     "execution_count": 9,
     "metadata": {},
     "output_type": "execute_result"
    }
   ],
   "source": [
    "naukri['Uniq Id'].is_unique"
   ]
  },
  {
   "cell_type": "markdown",
   "metadata": {
    "papermill": {
     "duration": 0.019586,
     "end_time": "2021-02-23T06:23:47.631946",
     "exception": false,
     "start_time": "2021-02-23T06:23:47.612360",
     "status": "completed"
    },
    "tags": []
   },
   "source": [
    "As every single Uniq Id is unique, that means we don't have any duplicate rows and hence we won't drop any rows."
   ]
  },
  {
   "cell_type": "markdown",
   "metadata": {
    "papermill": {
     "duration": 0.019578,
     "end_time": "2021-02-23T06:23:47.671274",
     "exception": false,
     "start_time": "2021-02-23T06:23:47.651696",
     "status": "completed"
    },
    "tags": []
   },
   "source": [
    "### Top 10 'Job Experience Required'"
   ]
  },
  {
   "cell_type": "code",
   "execution_count": 10,
   "metadata": {
    "execution": {
     "iopub.execute_input": "2021-02-23T06:23:47.715217Z",
     "iopub.status.busy": "2021-02-23T06:23:47.714497Z",
     "iopub.status.idle": "2021-02-23T06:23:48.125893Z",
     "shell.execute_reply": "2021-02-23T06:23:48.125217Z"
    },
    "papermill": {
     "duration": 0.434579,
     "end_time": "2021-02-23T06:23:48.126007",
     "exception": false,
     "start_time": "2021-02-23T06:23:47.691428",
     "status": "completed"
    },
    "tags": []
   },
   "outputs": [
    {
     "data": {
      "image/png": "[encoded data removed]",
      "text/plain": [
       "<Figure size 720x576 with 1 Axes>"
      ]
     },
     "metadata": {},
     "output_type": "display_data"
    }
   ],
   "source": [
    "job_exp_top_10 = pd.DataFrame(naukri['Job Experience Required'].value_counts()).head(10)\n",
    "plt.figure(figsize=(10,8))\n",
    "sns.barplot(data = job_exp_top_10, y = job_exp_top_10.index, x = 'Job Experience Required')\n",
    "plt.title('Top 10 Range of Job Experience Required', size = 18)\n",
    "plt.ylabel('Range of Job Experience', size = 15)\n",
    "plt.xlabel('No. of Jobs Advertised', size = 15)\n",
    "plt.show()"
   ]
  },
  {
   "cell_type": "markdown",
   "metadata": {
    "papermill": {
     "duration": 0.021002,
     "end_time": "2021-02-23T06:23:48.168366",
     "exception": false,
     "start_time": "2021-02-23T06:23:48.147364",
     "status": "completed"
    },
    "tags": []
   },
   "source": [
    "As we can see, majority of the companies require employees between 2-5 and 2-7 years of experience. Hence majority of the candidates that are required should be either entry level with some experience, or junior level."
   ]
  },
  {
   "cell_type": "markdown",
   "metadata": {
    "papermill": {
     "duration": 0.020828,
     "end_time": "2021-02-23T06:23:48.210292",
     "exception": false,
     "start_time": "2021-02-23T06:23:48.189464",
     "status": "completed"
    },
    "tags": []
   },
   "source": [
    "### Percentage of Top 10 Role Categories"
   ]
  },
  {
   "cell_type": "code",
   "execution_count": 11,
   "metadata": {
    "execution": {
     "iopub.execute_input": "2021-02-23T06:23:48.268861Z",
     "iopub.status.busy": "2021-02-23T06:23:48.268033Z",
     "iopub.status.idle": "2021-02-23T06:23:48.615943Z",
     "shell.execute_reply": "2021-02-23T06:23:48.614918Z"
    },
    "papermill": {
     "duration": 0.384678,
     "end_time": "2021-02-23T06:23:48.616079",
     "exception": false,
     "start_time": "2021-02-23T06:23:48.231401",
     "status": "completed"
    },
    "tags": []
   },
   "outputs": [
    {
     "data": {
      "image/png": "[encoded data removed]",
      "text/plain": [
       "<Figure size 720x576 with 1 Axes>"
      ]
     },
     "metadata": {},
     "output_type": "display_data"
    }
   ],
   "source": [
    "role_top_10 = pd.DataFrame(naukri['Role Category'].value_counts(normalize = True).head(10) * 100)\n",
    "plt.figure(figsize=(10,8))\n",
    "plt.title('Top 10 Role Categories', size = 18)\n",
    "sns.barplot(data = role_top_10, y = role_top_10.index, x = 'Role Category')\n",
    "plt.ylabel('Role Categories',size = 15)\n",
    "plt.xlabel('Percentage of roles advertised', size = 15)\n",
    "plt.show()"
   ]
  },
  {
   "cell_type": "markdown",
   "metadata": {
    "papermill": {
     "duration": 0.022602,
     "end_time": "2021-02-23T06:23:48.661530",
     "exception": false,
     "start_time": "2021-02-23T06:23:48.638928",
     "status": "completed"
    },
    "tags": []
   },
   "source": [
    "We can see that 'Programming and Design' Roles take more than 30% of all job roles advertised on Naukri.com\n",
    "\n",
    "This is not shocking as a lot of American based companies (and other countries as well) outsource their IT services/software development from India."
   ]
  },
  {
   "cell_type": "markdown",
   "metadata": {
    "papermill": {
     "duration": 0.022362,
     "end_time": "2021-02-23T06:23:48.706619",
     "exception": false,
     "start_time": "2021-02-23T06:23:48.684257",
     "status": "completed"
    },
    "tags": []
   },
   "source": [
    "### Top 10 locations that are hiring in the 'Programming and Design' Role category"
   ]
  },
  {
   "cell_type": "code",
   "execution_count": 12,
   "metadata": {
    "execution": {
     "iopub.execute_input": "2021-02-23T06:23:48.764171Z",
     "iopub.status.busy": "2021-02-23T06:23:48.763493Z",
     "iopub.status.idle": "2021-02-23T06:23:49.009869Z",
     "shell.execute_reply": "2021-02-23T06:23:49.010421Z"
    },
    "papermill": {
     "duration": 0.281375,
     "end_time": "2021-02-23T06:23:49.010564",
     "exception": false,
     "start_time": "2021-02-23T06:23:48.729189",
     "status": "completed"
    },
    "tags": []
   },
   "outputs": [
    {
     "data": {
      "image/png": "[encoded data removed]",
      "text/plain": [
       "<Figure size 720x576 with 1 Axes>"
      ]
     },
     "metadata": {},
     "output_type": "display_data"
    }
   ],
   "source": [
    "loc_top_10 = pd.DataFrame(naukri[naukri['Role Category'] == 'Programming & Design'].Location.value_counts().head(10)) #percentage of top 10 Role Categories advertised on Naukri.com\n",
    "plt.figure(figsize=(10,8))\n",
    "plt.title('Top 10 Locations in the \"Programming and Design\" Role Category', size = 18)\n",
    "sns.barplot(data = loc_top_10, y = 'Location', x = loc_top_10.index)\n",
    "plt.ylabel('No. of Job Opportunities in various cities',size = 15)\n",
    "plt.xlabel('Locations', size = 15)\n",
    "plt.show()"
   ]
  },
  {
   "cell_type": "markdown",
   "metadata": {
    "papermill": {
     "duration": 0.024265,
     "end_time": "2021-02-23T06:23:49.059512",
     "exception": false,
     "start_time": "2021-02-23T06:23:49.035247",
     "status": "completed"
    },
    "tags": []
   },
   "source": [
    "Bangalore, being the IT Hub of India, has more job opportunities for 'Programming & Design' Roles by a very high margin when compared to other cities."
   ]
  },
  {
   "cell_type": "markdown",
   "metadata": {
    "papermill": {
     "duration": 0.023479,
     "end_time": "2021-02-23T06:23:49.107281",
     "exception": false,
     "start_time": "2021-02-23T06:23:49.083802",
     "status": "completed"
    },
    "tags": []
   },
   "source": [
    "### Percentage of Top 10 Industries that have advertised on Naukri.com"
   ]
  },
  {
   "cell_type": "code",
   "execution_count": 13,
   "metadata": {
    "execution": {
     "iopub.execute_input": "2021-02-23T06:23:49.158303Z",
     "iopub.status.busy": "2021-02-23T06:23:49.157665Z",
     "iopub.status.idle": "2021-02-23T06:23:49.509791Z",
     "shell.execute_reply": "2021-02-23T06:23:49.510308Z"
    },
    "papermill": {
     "duration": 0.379458,
     "end_time": "2021-02-23T06:23:49.510446",
     "exception": false,
     "start_time": "2021-02-23T06:23:49.130988",
     "status": "completed"
    },
    "tags": []
   },
   "outputs": [
    {
     "data": {
      "image/png": "[encoded data removed]",
      "text/plain": [
       "<Figure size 720x576 with 1 Axes>"
      ]
     },
     "metadata": {},
     "output_type": "display_data"
    }
   ],
   "source": [
    "industry_top_10 = pd.DataFrame(naukri.Industry.value_counts(normalize = True).head(10) * 100)\n",
    "plt.figure(figsize=(10,8))\n",
    "plt.title('Top 10 Industries', size = 18)\n",
    "sns.barplot(data = industry_top_10, y = industry_top_10.index, x = 'Industry')\n",
    "plt.ylabel('Industries',size = 15)\n",
    "plt.xlabel('Percentage of Jobs advertised by Industries', size = 15)\n",
    "plt.show()"
   ]
  },
  {
   "cell_type": "markdown",
   "metadata": {
    "papermill": {
     "duration": 0.025016,
     "end_time": "2021-02-23T06:23:49.561170",
     "exception": false,
     "start_time": "2021-02-23T06:23:49.536154",
     "status": "completed"
    },
    "tags": []
   },
   "source": [
    "It's no surprise that IT Software and Software Services are the industries that have advertised the most on Naukri.com, as we have seen before that Programming and Design Roles are the most advertised Role categories as well."
   ]
  }
 ],
 "metadata": {
  "kernelspec": {
   "display_name": "Python 3",
   "language": "python",
   "name": "python3"
  },
  "language_info": {
   "codemirror_mode": {
    "name": "ipython",
    "version": 3
   },
   "file_extension": ".py",
   "mimetype": "text/x-python",
   "name": "python",
   "nbconvert_exporter": "python",
   "pygments_lexer": "ipython3",
   "version": "3.7.6"
  },
  "papermill": {
   "duration": 14.264316,
   "end_time": "2021-02-23T06:23:49.694220",
   "environment_variables": {},
   "exception": null,
   "input_path": "__notebook__.ipynb",
   "output_path": "__notebook__.ipynb",
   "parameters": {},
   "start_time": "2021-02-23T06:23:35.429904",
   "version": "2.1.0"
  }
 },
 "nbformat": 4,
 "nbformat_minor": 4
}